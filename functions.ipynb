{
 "cells": [
  {
   "cell_type": "code",
   "execution_count": null,
   "outputs": [],
   "source": [
    "import nltk\n",
    "from nltk.corpus import stopwords\n",
    "from PyPDF2 import PdfReader"
   ],
   "metadata": {
    "collapsed": false
   },
   "id": "bc822d0059333b17"
  },
  {
   "cell_type": "code",
   "execution_count": null,
   "outputs": [],
   "source": [
    "nltk.download(\"punkt\")"
   ],
   "metadata": {
    "collapsed": false
   },
   "id": "b7f7965c35673f29"
  },
  {
   "cell_type": "code",
   "execution_count": null,
   "outputs": [],
   "source": [
    "stop_words = set(stopwords.words('spanish'))"
   ],
   "metadata": {
    "collapsed": false
   },
   "id": "a11d0be5b5b7b518"
  },
  {
   "cell_type": "code",
   "execution_count": null,
   "id": "initial_id",
   "metadata": {
    "collapsed": true
   },
   "outputs": [],
   "source": [
    "def read_pdf(name: str):\n",
    "    corpus = []\n",
    "    db = open(name, \"rb\")\n",
    "    reader = PdfReader(db)\n",
    "\n",
    "    for pagei in range(len(reader.pages)):\n",
    "        page = reader.pages[pagei]\n",
    "        text = page.extract_text()\n",
    "        corpus.append(text)\n",
    "\n",
    "    db.close()\n",
    "    return corpus"
   ]
  },
  {
   "cell_type": "code",
   "execution_count": null,
   "outputs": [],
   "source": [],
   "metadata": {
    "collapsed": false
   },
   "id": "d45c496f8677ed09"
  }
 ],
 "metadata": {
  "kernelspec": {
   "display_name": "Python 3",
   "language": "python",
   "name": "python3"
  },
  "language_info": {
   "codemirror_mode": {
    "name": "ipython",
    "version": 2
   },
   "file_extension": ".py",
   "mimetype": "text/x-python",
   "name": "python",
   "nbconvert_exporter": "python",
   "pygments_lexer": "ipython2",
   "version": "2.7.6"
  }
 },
 "nbformat": 4,
 "nbformat_minor": 5
}
