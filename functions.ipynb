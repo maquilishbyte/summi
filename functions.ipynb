{
 "cells": [
  {
   "cell_type": "code",
   "execution_count": null,
   "outputs": [],
   "source": [
    "from PyPDF2 import PdfReader"
   ],
   "metadata": {
    "collapsed": false
   },
   "id": "bc822d0059333b17"
  },
  {
   "cell_type": "code",
   "execution_count": null,
   "id": "initial_id",
   "metadata": {
    "collapsed": true
   },
   "outputs": [],
   "source": [
    "def read_pdf(name: str):\n",
    "    corpus = []\n",
    "    db = open(name, \"rb\")\n",
    "    reader = PdfReader(db)\n",
    "    \n",
    "    for pagei in range(len(reader.pages)):\n",
    "        page = reader.pages[pagei]\n",
    "        text = page.extract_text()\n",
    "        corpus.append(text)\n",
    "        \n",
    "    db.close()\n",
    "    return corpus"
   ]
  }
 ],
 "metadata": {
  "kernelspec": {
   "display_name": "Python 3",
   "language": "python",
   "name": "python3"
  },
  "language_info": {
   "codemirror_mode": {
    "name": "ipython",
    "version": 2
   },
   "file_extension": ".py",
   "mimetype": "text/x-python",
   "name": "python",
   "nbconvert_exporter": "python",
   "pygments_lexer": "ipython2",
   "version": "2.7.6"
  }
 },
 "nbformat": 4,
 "nbformat_minor": 5
}
