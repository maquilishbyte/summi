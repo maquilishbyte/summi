{
 "cells": [
  {
   "cell_type": "code",
   "execution_count": 9,
   "outputs": [],
   "source": [
    "import nltk\n",
    "import re\n",
    "from nltk.corpus import stopwords\n",
    "from PyPDF2 import PdfReader"
   ],
   "metadata": {
    "collapsed": false,
    "ExecuteTime": {
     "end_time": "2023-09-16T00:05:32.038894800Z",
     "start_time": "2023-09-16T00:05:32.029895900Z"
    }
   },
   "id": "bc822d0059333b17"
  },
  {
   "cell_type": "code",
   "execution_count": 2,
   "outputs": [
    {
     "name": "stderr",
     "output_type": "stream",
     "text": [
      "[nltk_data] Downloading package punkt to\n",
      "[nltk_data]     C:\\Users\\kevin\\AppData\\Roaming\\nltk_data...\n",
      "[nltk_data]   Package punkt is already up-to-date!\n"
     ]
    },
    {
     "data": {
      "text/plain": "True"
     },
     "execution_count": 2,
     "metadata": {},
     "output_type": "execute_result"
    }
   ],
   "source": [
    "nltk.download(\"punkt\")"
   ],
   "metadata": {
    "collapsed": false,
    "ExecuteTime": {
     "end_time": "2023-09-16T00:00:12.562311800Z",
     "start_time": "2023-09-16T00:00:12.187583200Z"
    }
   },
   "id": "b7f7965c35673f29"
  },
  {
   "cell_type": "code",
   "execution_count": 3,
   "outputs": [],
   "source": [
    "stop_words = set(stopwords.words('spanish'))"
   ],
   "metadata": {
    "collapsed": false,
    "ExecuteTime": {
     "end_time": "2023-09-16T00:00:12.616310500Z",
     "start_time": "2023-09-16T00:00:12.558314Z"
    }
   },
   "id": "a11d0be5b5b7b518"
  },
  {
   "cell_type": "code",
   "execution_count": 69,
   "outputs": [],
   "source": [
    "# header_re = r'UNIVERSIDAD DE EL SALVADOR EN LÍNEA\\s*\\n\\s*FACULTAD DE INGENIERÍA Y ARQUITECTURA\\s*\\n\\s*PROGRAMACION\\s*III\\s*\\nEste material ha sido proporcionado al estudiante en el marco de su formación a través de una carrera en línea en\\s*\\nla Universidad de El Salvador.\\s*Se han respetado los derechos de autor para su elaboración. El debido uso del mismo es\\s*\\nresponsabilidad del estudiante'"
   ],
   "metadata": {
    "collapsed": false,
    "ExecuteTime": {
     "end_time": "2023-09-16T00:23:44.304478700Z",
     "start_time": "2023-09-16T00:23:44.292475Z"
    }
   },
   "id": "f17d707d8b2581"
  },
  {
   "cell_type": "code",
   "execution_count": 85,
   "outputs": [],
   "source": [
    "header_re = r'universidad de el salvador en línea\\s*\\n\\s*facultad de ingenía y arquitectura\\s*\\n\\s*programacion\\s*III\\s*\\neste material ha sido proporcionado al estudiante en el marco de su formación a través de una carrera en línea en\\s*\\nla universidad de el salvador.\\s*se han respetado los derechos de autor para su elaboración. el debido uso del mismo es\\s*\\nresponsabilidad del estudiante'\n"
   ],
   "metadata": {
    "collapsed": false,
    "ExecuteTime": {
     "end_time": "2023-09-16T00:54:14.265335900Z",
     "start_time": "2023-09-16T00:54:14.236875300Z"
    }
   },
   "id": "25c1a204decab8f6"
  },
  {
   "cell_type": "code",
   "execution_count": 86,
   "outputs": [],
   "source": [
    "def read_pdf(name: str):\n",
    "    corpus = []\n",
    "    db = open(name, \"rb\")\n",
    "    reader = PdfReader(db)\n",
    "\n",
    "    for pagei in range(len(reader.pages)):\n",
    "        page = reader.pages[pagei]\n",
    "        text = page.extract_text()\n",
    "        corpus.append(text)\n",
    "\n",
    "    db.close()\n",
    "    return corpus"
   ],
   "metadata": {
    "collapsed": false,
    "ExecuteTime": {
     "end_time": "2023-09-16T00:54:15.866855200Z",
     "start_time": "2023-09-16T00:54:15.855855200Z"
    }
   },
   "id": "initial_id"
  },
  {
   "cell_type": "code",
   "execution_count": 87,
   "outputs": [],
   "source": [
    "def remove_header(pattern: str = header_re, file: list[str] = None) -> list[str]:\n",
    "    \"\"\"Remove pdf header of college pdfs using regex\n",
    "    \n",
    "    :param pattern: pattern to remove\n",
    "    :param file: list of lists where header will be removed\n",
    "    :return: list of lists without header\n",
    "    \"\"\"\n",
    "    docs: list[str] = []\n",
    "    for doc in file:\n",
    "        new_doc: str = re.sub(pattern, \"\", doc.lower())\n",
    "        docs.append(new_doc)\n",
    "    return docs"
   ],
   "metadata": {
    "collapsed": false,
    "ExecuteTime": {
     "end_time": "2023-09-16T00:54:18.287841200Z",
     "start_time": "2023-09-16T00:54:18.275851900Z"
    }
   },
   "id": "32432319adddbe56"
  }
 ],
 "metadata": {
  "kernelspec": {
   "display_name": "Python 3",
   "language": "python",
   "name": "python3"
  },
  "language_info": {
   "codemirror_mode": {
    "name": "ipython",
    "version": 2
   },
   "file_extension": ".py",
   "mimetype": "text/x-python",
   "name": "python",
   "nbconvert_exporter": "python",
   "pygments_lexer": "ipython2",
   "version": "2.7.6"
  }
 },
 "nbformat": 4,
 "nbformat_minor": 5
}
