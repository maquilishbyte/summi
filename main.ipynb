{
 "cells": [
  {
   "cell_type": "code",
   "execution_count": 3,
   "id": "initial_id",
   "metadata": {
    "collapsed": true,
    "ExecuteTime": {
     "end_time": "2023-09-09T03:56:46.790681700Z",
     "start_time": "2023-09-09T03:56:46.775054200Z"
    }
   },
   "outputs": [],
   "source": [
    "import os\n",
    "from azure.ai.textanalytics import TextAnalyticsClient, ExtractSummaryAction\n",
    "from azure.core.credentials import AzureKeyCredential"
   ]
  },
  {
   "cell_type": "code",
   "execution_count": 8,
   "outputs": [],
   "source": [
    "%run ./functions.ipynb"
   ],
   "metadata": {
    "collapsed": false,
    "ExecuteTime": {
     "end_time": "2023-09-09T04:05:49.447142900Z",
     "start_time": "2023-09-09T04:05:49.431517Z"
    }
   },
   "id": "6e7dba68af3c7394"
  },
  {
   "cell_type": "code",
   "execution_count": 10,
   "outputs": [],
   "source": [
    "db = read_pdf(\"files/Bases de datos.pdf\")"
   ],
   "metadata": {
    "collapsed": false,
    "ExecuteTime": {
     "end_time": "2023-09-09T04:06:36.011865100Z",
     "start_time": "2023-09-09T04:06:35.807691Z"
    }
   },
   "id": "f32ee49cdef68345"
  },
  {
   "cell_type": "code",
   "execution_count": 12,
   "outputs": [
    {
     "data": {
      "text/plain": "'  UNIVERSIDAD DE EL SALVADOR EN LÍNEA  \\n FACULTAD DE INGENIERÍA Y ARQUITECTURA  \\n PROGRAMACION  III \\nEste material ha sido proporcionado al estudiante en el marco de su formación a través de una carrera en línea en \\nla Universidad de El Salvador.  Se han respetado los derechos de autor para su elaboración. El debido uso del mismo es \\nresponsabilidad del estudiante . ALMACENAMIENTO DE DATOS\\n1.INTRODUCCIÓN\\nHasta el momento hemos estudiado el almacenamiento de datos; utilizando archivos de texto, \\nasí como tablas contendidas en bases de datos.  \\nEs importante tener en mente los conceptos relacionados al manejo de bases de datos \\nrelacionales, y su gestión a través de lenguaje SQL.  \\nPero de nada serviría tener una aplicación y una base de datos; sin que se relacionaran. \\nRecordemos que a  travé s de los programas de nuestra aplicación, vamos a gestionar los datos \\nalmacenados en l a base de datos.  \\nPara efectuar dicha correlación de componentes, deberemos  lograr enlazar nuestra aplicación \\ncon la base de datos; a través del correspondiente driver proporciona do por el fabricante del \\ngestor de datos.  \\nLo interesante , es que podemos lleva r instrucciones SQL  a nuestras clases java e insertarlas para \\nsu correspondiente procesamiento. Estas clases Java  importan librerías que nos permiten la \\nconexión, pero además debemos agregar un String con el  cual vamos a colocar todas las \\ndirectrices neces arias para llegar hasta la base de datos. Dentro de estas directrices se encuentra \\nel nombre de la base de datos, el usuario, su clave, el puerto por defecto de nuestro gestor (para \\nel caso de nuestra herramienta postgress sql, será el puerto 5232)  y la di rección del servidor . \\nEs necesario  comprender que cada gestor de base de datos , tiene asignado un puerto por \\ndefecto, con el objetivo de evitar colisiones con otros gestores.  \\n2.OBJETIVO DE LA UNIDA D\\nGeneral:\\n\\uf0fcImplementar soluciones informáticas reales, utili zando correctamente y éticamente\\nestructuras de almacenamiento de datos.\\nEspecíficos:  \\n\\uf0fcDescribir los diversos modelos JDBC para la conectividad con Bases de Datos.\\n\\uf0fcImplementar clases en lenguaje Java, que se conecten con los diversos gestores de\\nbases de d atos y le envíen instrucciones SQL.'"
     },
     "execution_count": 12,
     "metadata": {},
     "output_type": "execute_result"
    }
   ],
   "source": [
    "db[0]"
   ],
   "metadata": {
    "collapsed": false,
    "ExecuteTime": {
     "end_time": "2023-09-09T04:07:55.070428700Z",
     "start_time": "2023-09-09T04:07:55.054804800Z"
    }
   },
   "id": "113d1b891c9b3904"
  }
 ],
 "metadata": {
  "kernelspec": {
   "display_name": "Python 3",
   "language": "python",
   "name": "python3"
  },
  "language_info": {
   "codemirror_mode": {
    "name": "ipython",
    "version": 2
   },
   "file_extension": ".py",
   "mimetype": "text/x-python",
   "name": "python",
   "nbconvert_exporter": "python",
   "pygments_lexer": "ipython2",
   "version": "2.7.6"
  }
 },
 "nbformat": 4,
 "nbformat_minor": 5
}
