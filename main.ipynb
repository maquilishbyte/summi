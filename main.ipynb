{
 "cells": [
  {
   "cell_type": "code",
   "execution_count": 1,
   "id": "initial_id",
   "metadata": {
    "collapsed": true,
    "ExecuteTime": {
     "end_time": "2023-09-16T00:24:18.572744Z",
     "start_time": "2023-09-16T00:24:18.249870700Z"
    }
   },
   "outputs": [],
   "source": [
    "from nltk.tokenize import word_tokenize\n",
    "from azure.ai.textanalytics import TextAnalyticsClient, ExtractSummaryAction\n",
    "from azure.core.credentials import AzureKeyCredential"
   ]
  },
  {
   "cell_type": "code",
   "execution_count": 47,
   "outputs": [
    {
     "name": "stderr",
     "output_type": "stream",
     "text": [
      "[nltk_data] Downloading package punkt to\n",
      "[nltk_data]     C:\\Users\\kevin\\AppData\\Roaming\\nltk_data...\n",
      "[nltk_data]   Package punkt is already up-to-date!\n"
     ]
    }
   ],
   "source": [
    "%run ./functions.ipynb"
   ],
   "metadata": {
    "collapsed": false,
    "ExecuteTime": {
     "end_time": "2023-09-16T00:54:53.787056600Z",
     "start_time": "2023-09-16T00:54:53.765058500Z"
    }
   },
   "id": "6e7dba68af3c7394"
  },
  {
   "cell_type": "code",
   "execution_count": 48,
   "outputs": [],
   "source": [
    "jdbc = read_pdf(\"files/Bases de datos.pdf\")\n",
    "variables = read_pdf(\"files/Variables aleatorias discretas - Copy.pdf\")"
   ],
   "metadata": {
    "collapsed": false,
    "ExecuteTime": {
     "end_time": "2023-09-16T00:54:55.449950900Z",
     "start_time": "2023-09-16T00:54:54.878951600Z"
    }
   },
   "id": "f32ee49cdef68345"
  },
  {
   "cell_type": "code",
   "execution_count": 49,
   "outputs": [],
   "source": [
    "jdbc_headerless = remove_text(file=jdbc)\n",
    "jdbc_stopless = remove_stopwords(jdbc_headerless)"
   ],
   "metadata": {
    "collapsed": false,
    "ExecuteTime": {
     "end_time": "2023-09-16T00:54:56.240670Z",
     "start_time": "2023-09-16T00:54:56.219932300Z"
    }
   },
   "id": "2371b51386b8ec2"
  },
  {
   "cell_type": "code",
   "execution_count": 50,
   "outputs": [],
   "source": [
    "variables_headerless = remove_text(file=variables)\n",
    "variables_stopless = remove_stopwords(variables_headerless)"
   ],
   "metadata": {
    "collapsed": false,
    "ExecuteTime": {
     "end_time": "2023-09-16T00:54:58.496341300Z",
     "start_time": "2023-09-16T00:54:58.480324600Z"
    }
   },
   "id": "545a31238ee4388c"
  }
 ],
 "metadata": {
  "kernelspec": {
   "display_name": "Python 3",
   "language": "python",
   "name": "python3"
  },
  "language_info": {
   "codemirror_mode": {
    "name": "ipython",
    "version": 2
   },
   "file_extension": ".py",
   "mimetype": "text/x-python",
   "name": "python",
   "nbconvert_exporter": "python",
   "pygments_lexer": "ipython2",
   "version": "2.7.6"
  }
 },
 "nbformat": 4,
 "nbformat_minor": 5
}
