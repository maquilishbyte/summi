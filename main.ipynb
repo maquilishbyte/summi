{
 "cells": [
  {
   "cell_type": "code",
   "execution_count": 57,
   "id": "initial_id",
   "metadata": {
    "collapsed": true,
    "ExecuteTime": {
     "end_time": "2023-09-16T01:38:42.552710300Z",
     "start_time": "2023-09-16T01:38:42.543711600Z"
    }
   },
   "outputs": [],
   "source": [
    "from nltk.tokenize import word_tokenize\n",
    "from azure.ai.textanalytics import TextAnalyticsClient, ExtractSummaryAction\n",
    "from azure.core.credentials import AzureKeyCredential"
   ]
  },
  {
   "cell_type": "code",
   "execution_count": 58,
   "outputs": [
    {
     "name": "stderr",
     "output_type": "stream",
     "text": [
      "[nltk_data] Downloading package punkt to\n",
      "[nltk_data]     C:\\Users\\kevin\\AppData\\Roaming\\nltk_data...\n",
      "[nltk_data]   Package punkt is already up-to-date!\n"
     ]
    }
   ],
   "source": [
    "%run ./functions.ipynb"
   ],
   "metadata": {
    "collapsed": false,
    "ExecuteTime": {
     "end_time": "2023-09-16T01:38:42.571707900Z",
     "start_time": "2023-09-16T01:38:42.551712300Z"
    }
   },
   "id": "6e7dba68af3c7394"
  },
  {
   "cell_type": "code",
   "execution_count": 59,
   "outputs": [],
   "source": [
    "jdbc = read_pdf(\"files/Bases de datos.pdf\")\n",
    "variables = read_pdf(\"files/Variables aleatorias discretas - Copy.pdf\")"
   ],
   "metadata": {
    "collapsed": false,
    "ExecuteTime": {
     "end_time": "2023-09-16T01:38:43.181710400Z",
     "start_time": "2023-09-16T01:38:42.566712600Z"
    }
   },
   "id": "f32ee49cdef68345"
  },
  {
   "cell_type": "code",
   "execution_count": 60,
   "outputs": [],
   "source": [
    "jdbc_headerless = remove_text(file=jdbc)\n",
    "jdbc_stopless = remove_stopwords(jdbc_headerless)"
   ],
   "metadata": {
    "collapsed": false,
    "ExecuteTime": {
     "end_time": "2023-09-16T01:38:43.197709500Z",
     "start_time": "2023-09-16T01:38:43.182710700Z"
    }
   },
   "id": "2371b51386b8ec2"
  },
  {
   "cell_type": "code",
   "execution_count": 61,
   "outputs": [],
   "source": [
    "variables_headerless = remove_text(file=variables)\n",
    "variables_stopless = remove_stopwords(variables_headerless)"
   ],
   "metadata": {
    "collapsed": false,
    "ExecuteTime": {
     "end_time": "2023-09-16T01:38:43.228937100Z",
     "start_time": "2023-09-16T01:38:43.198709100Z"
    }
   },
   "id": "545a31238ee4388c"
  },
  {
   "cell_type": "code",
   "execution_count": 63,
   "outputs": [
    {
     "data": {
      "text/plain": "'universidad salvador línea facultad ingeniería arquitectura métodos probabilísticos página 1 9 material sido proporcionado estudiante marco formación través carrera línea universidad salvador . respetado derechos autor elaboración . debido uso mismo resp onsabilidad estudiante . métodos probabilístic unidad ii : distribuciones probabilidades variable temas : 2.1 distribución probabilidades conjunta variables aleatorias discretas . 2.2 independencia variables aleatorias discretas . objetivo unida d calcular esperanzas , varianzas , covarianzas coeficientes correlación casos bivariados usando herramienta computacional . introducción existen casos sim ple variable necesita observar , sino dos variables deben observar estudiar fenómeno realidad . variables pueden relacionadas s í , denominamos “ dependencia ” . existen procedimientos estadísticos validar dependencia , variables aleatorias . trata unidad . aquí inicia concepto distribución probabilidades conjunta dos variables aleatorias caso discreto , luego analiza independencia . sigue estudio similar caso continuo . finalizando unidad formas cálculo esperanzas matemáticas , varianzas , covarianzas coeficiente correlación casos bivariados . procedimi ento estudiado caso bivariado puede hacer extensible dos variables aleatorias , dejaremos estudiante investigue cuenta ste caso si desea profundizar estudio . 2.1. distribución prob abilidades conjunta variables aleatorias discretas . existen casos vida diaria participan variable aleatoria descripción . ejemplo , trata pronosticar tiempo ( universidad salvador línea facultad ingeniería arquitectura métodos probabilísticos página 2 9 material sido proporcionado estudiante marco formación través carrera línea universidad salvador . respetado derechos autor elaboración . debido uso mismo resp onsabilidad estudiante . condiciones atmosféricas ) región , relacio nan variabas variables , tales temperatura , velocidad viento , humedad . conoce , ejemplo , cierta dependencia , ejemplo , lluvia , viene acompañada fuertes vientos temperatura dism inuye . aunque modelo determinístico , ocurre siempre misma forma , trata mas bien tendencia . modelo describa exactamente comportamiento deberá incluir muchas variables aleatorias , tema , aunq ue escapa alcances curso , origen temas estudiaremos aquí . iniciamos entender relación dependencia pueda existir dos variables aleatorias . x dos variables aleatorias discretas , definidas so bre mismo espacio muestral . mostraremos concepto medio ejemplo , suponga lanzamos moneda tres veces , siguiente figura ilustra número resultados posibles experimento : figura 2.1.1 diagrama árbol caso lanzamiento moneda tres veces . allí resulta espacio s = { ccc , ccs , csc , css , scc , scs , ssc , sss } . vamos ahora definir dos variables aleatorias dicho espacio muestral . x número caras tres lanzamientos , número lanzamiento ocurrió primera cara . universidad salvador línea facultad ingeniería arquitectura métodos probabilísticos página 3 9 material sido proporcionado estudiante marco formación través carrera línea universidad salvador . respetado derechos autor elaboración . debido uso mismo resp onsabilidad estudiante . entonces espacio muestral asociado x s x = { 3 , 2 , 1 , 0 } s = { 1 , 2 , 3 , 0 } . 0 s x , indica cara tres lanzamientos , 0 s significa nunca obtuvo cara tres lanzamientos . vamos ahora resumir datos espacio muestral siguiente tabla , además incluye probabilidad ocurrencia resultados espacio muestral original . resultados ccc ccs csc css scc scs ssc sss x 3 2 2 1 2 1 1 0 1 1 1 1 2 2 3 0 probabilidad 1/8 1/8 1/8 1/8 1/8 1/8 1/8 1/8 tabla 2.1.1 resultado l experimento lanzar moneda tres veces valores posibles variables aleatorias x y. tabla anterior , vamos construir nueva tabla doble entrada , variable x variable y. ubicamos variable x parte superior debajo valores posibles . parte lateral izquierda ubicamos variable ( ) col umna siguiente valores . x 0 1 2 3 0 1 2 3 tabla 2.1.2 formato tabla conjunta ahora vamos llenar tabla , casillas colocaremos probabilidad caso correspondiente variable x tome valor indicado encabezado columna simultáneamente variable tome valor encabezado fila corresponde . ejemplo , casilla intersección x=0 y=0 , ubicaremos probabilidad x valga cero valga cero . revisar casos tabla 2.1.1 , vemos solo caso x=0 y=0 , , probabilidad ubic ar dicha casilla 1/8 . así : x 0 1 2 3 0 1/8 1 universidad salvador línea facultad ingeniería arquitectura métodos probabilísticos página 4 9 material sido proporcionado estudiante marco formación través carrera línea universidad salvador . respetado derechos autor elaboración . debido uso mismo resp onsabilidad estudiante . así , construye tabla conjunta probabilidades x , muestra continuación : x 0 1 2 3 0 1/8 0 0 0 1 0 1/8 2/8 1/8 2 0 1/8 1/8 0 3 0 1/8 0 0 tabla 2.1.3 tabla distribución probabilidades conjunta x y. ahora tabla puede proceder responder casos probabilidades relacionen x , siguiente forma : p ( x = x = ) . ejemplos : encuentre siguientes probabilidades ) p ( x=1 y=2 ) b ) p ( x≤1 y=2 ) c ) p ( x≤1 ≤2 ) d ) p ( x≤1 ó ≤2 ) resolver casos , solo debemos recorrer tabla 2.1.3 sumar cuadros probabilidades cumplen requerimiento . ) p ( x =1 = 2 ) , solo cuadro suple dicho requerimiento , or , respuesta 1/8 . b ) p ( x≤1 y=2 ) , recomienda especie técnica metodológica resolver tipo caso crear silueta tabla anterior sombrear forma cuadros cumplen requerimiento variable x forma cuadros satisfacen requerimiento variable , luego analiza cumplen ambos casos . así , requerimiento x : requerimiento : universidad salvador línea facultad ingeniería arquitectura métodos probabilísticos página 5 9 material sido proporcionado estudiante marco formación través carrera línea universidad salvador . respetado derechos autor elaboración . debido uso mismo resp onsabilidad estudiante . , analizar conjunción , únicos satisfacen requerimiento : debido únicos cuadros cumplen ambos requerimientos simultáneamente . , probabilidad : 0 + 1/8 = 1/8 . verifique ud . siguientes respuestas , usando criterio anterior : c ) p ( x≤1 ≤2 ) = 3/8 . d ) p ( x≤1 ó ≤2 ) = 1. proce demos ahora establecer definición distribución probabilidades conjunta dos variables aleatorias discretas x y. definición : x , dos variables aleatorias discretas , define conjunta ambas aquella satisface p ( x =x y=y ) . asociada , definición distribución conjunta probabilidades aparece definición probabilidades marginales x y. marginales x , obtiene sumando valores probabilidades fila ( marginal ) columna ( marginal x ) , anotando dicho resultado margen tabla probabilidades conjunta ( allí nombre probabilidades marginales ) . continuación , muestra tabla distribuciones conjunta x d caso anterior junto distribuciones marginales x y. note suma todas marginales siempre debe sumar 1 , filas columnas , acumulan todas probabilidades ( suma probabilidades total siem pre suma 1 ) . universidad salvador línea facultad ingeniería arquitectura métodos probabilísticos página 6 9 material sido proporcionado estudiante marco formación través carrera línea universidad salvador . respetado derechos autor elaboración . debido uso mismo resp onsabilidad estudiante . x marginal 0 1 2 3 0 1/8 0 0 0 1/8 1 0 1/8 2/8 1/8 4/8 2 0 1/8 1/8 0 2/8 3 0 1/8 0 0 1/8 marginal x 1/8 3/8 3/8 1/8 1 tabla 2.1.4 tabla distribuciones probabilidades conjunta x , junto distribuciones probabilidades marginales x , caso lanzamiento moneda 3 veces . definición probabilidades marginales sigue : definición : x , dos variables aleatorias discretas , cuya distribución probabilid ades conjunta viene dada p ( x=x y=y ) , entonces distribuciones marginales x obtienen medio : 𝑃 ( 𝑋=𝑥 ) =∑𝑃 ( 𝑋=𝑥 ∧ 𝑌=𝑦 ) ∀𝑦 𝑃 ( 𝑌=𝑦 ) =∑𝑃 ( 𝑋=𝑥 ∧ 𝑌=𝑦 ) ∀𝑥 2.2. independencia var iables aleatorias di scretas . independencia dos variables aleatorias discretas verifica fácilmente tabla distribución probabilidades conjunta variables x y. dos variables aleatorias discretas independientes debe cumplirse producto dos marginales igual valor respectiva conjunta cada elemento tabla conjunta . ver forma gráfica , producido siguiente ilustración , cuadros rojo azul indican respectivas probabilidad marginales x , cambio cuadro verde contiene valor probabilidad conjunta x y. entonces independencia logra si producto marginales igual valor conjunta cada cuadro conjunta . si falla sta regla , entonces independientes . universidad salvador línea facultad ingeniería arquitectura métodos probabilísticos página 7 9 material sido proporcionado estudiante marco formación través carrera línea universidad salvador . respetado derechos autor elaboración . debido uso mismo resp onsabilidad estudiante . figura 2.2.1 ilustración relación debe existir marginales conjunta mostrar independencia . continuación , establece definición independencia variables aleatorias discret as . definición : dos variables aleatorias discretas x , independientes , si solamente si , 𝑃 ( 𝑋=𝑥 ∧ 𝑌=𝑦 ) =𝑃 ( 𝑋=𝑥 ) ∗𝑃 ( 𝑌=𝑦 ) valores x rango x valores rango y. ejemplo , verificaremos si variables aleatoria s defini das numeral 1.1 independientes . bastará probar caso cumple , decir independientes . ello , analizamos caso d conjunta p ( x=0 y=0 ) =1 /8 . dado marginal x p ( x=0 ) = 1/8 marginal p ( y=0 ) = 1/8 . verifica producto marginales p ( x = 0 ) * p ( = 0 ) = 1/64 igual 1/8 valor conjunta , , variables x independientes . 2.3. sección ejercicio s. 1. suponga qu lanza moneda tres veces , construya distribución probabilidades conjunta caso define espacio muestral asociado dicho experimento sigue : x = número sellos obtenidos tres lanzamientos = longitud corrida sellos cada resultado posible . además , calcule siguientes probabilidades : a. p ( x=2 y=3 ) . b. p ( x≤2 ≤1 ) . c. p ( x≤2 y=3 ) . d. p ( x≤1 ≥2 ) . universidad salvador línea facultad ingeniería arquitectura métodos probabilísticos página 8 9 material sido proporcionado estudiante marco formación través carrera línea universidad salvador . respetado derechos autor elaboración . debido uso mismo resp onsabilidad estudiante . 2. determine si variables ejercicio 1 independiente . 3. basado condición independencia variables x , complete siguiente cuadro d istribución probabilidades conjunta x . 2.4. bibliografía 1. solomon . f. ( 1987 ) probability and stochastic processes . new jersey , usa . prentice hall inc. 2. bhat , u.n. & miller , g. k. ( 2002 ) elements of applied stochastic processes . new york , usa . wiley -interscience , john wiley & sons , inc. 3. bailey , n. t . j . ( 1964 ) the elements of stochastic processes , with applications to the natural sciences . new york , usa . john wiley & sons , inc. 4. baudin , m. , ( 2010 ) introduction to scilab , france , the scilab consortium – digiteo . 5. canavos , g. , ( 1998 ) , probabilidad estadística : aplicaciones métodos , mexico , d.f. , mcgraw -hill/interamericana mexico s.a. c.v. 6. devore , j. , ( 2008 ) . probabilidad estadística : ingeniería ciencias ( 7ª . ed . ) m exico , d.f. , cengage learning editores s.a c.v. 7. diccionario merrian -webster retomado : http : //www.merriam -webster.com ( 2017 ) . 8. dodge , . ( 2006 ) diccionario oxford términos estadísticos . 9. everitt , b. , skr ondal , a. , ( 2010 ) the cambridge dictionary of statistics ( 4ª . ed . ) new york , u.s.a. cambridge university press . 10. hines , w. , montgomery , d. ( 1993 ) . probabilidad estadística : ingeniería administración ( 3er ed . ) mexico , d.f. , cecsa . 11. johnson , r. , ( 1998 ) probabilidad estadística : ingenieros miller freund ( 5ª ed . ) mexico , d.f. , prentice -hall hispanoamericana . universidad salvador línea facultad ingeniería arquitectura métodos probabilísticos página 9 9 material sido proporcionado estudiante marco formación través carrera línea universidad salvador . respetado derechos autor elaboración . debido uso mismo resp onsabilidad estudiante . 12. mendenhall , w. , beaver , r. , beaver , b. , ( 2010 ) . introducción probabilidad estadística ( 13ª ed . ) mexico , d.f. , cengage learning ed itores s.a c.v. 13. žitkcović , g. ( 2010 ) introduction to stochastic processes – lecture notes . austin , texas , usa . department of mathematics . the university of texas . 14. taylor , h.m. & karlin , s. ( 1998 ) an introduction to stochastic modeling . new york , usa . academic press . 15. knill , . ( 2009 ) probability and stochastic processes with applications . new delhi , india . overseas press india private limited . 16. ross s. m. ( 1996 ) stochastic processes . new york , usa , john wiley and sons , inc. 17. feller , w. ( 1968 ) an introduction to probability theory and its applications , vol . 1. new york , usa , john wiley and sons , inc. 18. wolf , r. w. ( 1989 ) stochastic modeling and the theory of queues . new jersey , usa . prentice hall inc. 19. yates , r. d. & goodman , d. j . ( 1983 ) probability and stochastics processes . new york , usa . john wiley and sons , inc. glosario definición distribución probabilidades conjunta caso discreto : x , dos variables aleatorias discretas , define conjunta ambas aquella satisface p ( x=x y=y ) . definición probabilidades marginales x caso discreto : x , dos variables aleatorias discretas , cuya distribución probabil idades conjunta viene dada p ( x=x y=y ) , entonces distribuciones marginales x obtienen medio : 𝑃 ( 𝑋=𝑥 ) =∑𝑃 ( 𝑋=𝑥 ∧ 𝑌=𝑦 ) ∀𝑦 𝑃 ( 𝑌=𝑦 ) =∑𝑃 ( 𝑋=𝑥 ∧ 𝑌=𝑦 ) ∀𝑥 definición independencia variables aleatorias discretas : dos variables aleatorias discretas x , independientes , si solamente si , 𝑃 ( 𝑋=𝑥 ∧ 𝑌=𝑦 ) =𝑃 ( 𝑋=𝑥 ) ∗ 𝑃 ( 𝑌=𝑦 ) valores x rango x valores rango .'"
     },
     "execution_count": 63,
     "metadata": {},
     "output_type": "execute_result"
    }
   ],
   "source": [
    "create_doc(variables_stopless)"
   ],
   "metadata": {
    "collapsed": false,
    "ExecuteTime": {
     "end_time": "2023-09-16T01:39:08.413497700Z",
     "start_time": "2023-09-16T01:39:08.398497800Z"
    }
   },
   "id": "ab72857bce61c28e"
  },
  {
   "cell_type": "code",
   "execution_count": 64,
   "outputs": [
    {
     "data": {
      "text/plain": "'  UNIVERSIDAD DE EL SALVADOR EN LÍNEA  \\n FACULTAD DE INGENIERÍA Y ARQUITECTURA  \\n PROGRAMACION  III \\nEste material ha sido proporcionado al estudiante en el marco de su formación a través de una carrera en línea en \\nla Universidad de El Salvador.  Se han respetado los derechos de autor para su elaboración. El debido uso del mismo es \\nresponsabilidad del estudiante . ALMACENAMIENTO DE DATOS\\n1.INTRODUCCIÓN\\nHasta el momento hemos estudiado el almacenamiento de datos; utilizando archivos de texto, \\nasí como tablas contendidas en bases de datos.  \\nEs importante tener en mente los conceptos relacionados al manejo de bases de datos \\nrelacionales, y su gestión a través de lenguaje SQL.  \\nPero de nada serviría tener una aplicación y una base de datos; sin que se relacionaran. \\nRecordemos que a  travé s de los programas de nuestra aplicación, vamos a gestionar los datos \\nalmacenados en l a base de datos.  \\nPara efectuar dicha correlación de componentes, deberemos  lograr enlazar nuestra aplicación \\ncon la base de datos; a través del correspondiente driver proporciona do por el fabricante del \\ngestor de datos.  \\nLo interesante , es que podemos lleva r instrucciones SQL  a nuestras clases java e insertarlas para \\nsu correspondiente procesamiento. Estas clases Java  importan librerías que nos permiten la \\nconexión, pero además debemos agregar un String con el  cual vamos a colocar todas las \\ndirectrices neces arias para llegar hasta la base de datos. Dentro de estas directrices se encuentra \\nel nombre de la base de datos, el usuario, su clave, el puerto por defecto de nuestro gestor (para \\nel caso de nuestra herramienta postgress sql, será el puerto 5232)  y la di rección del servidor . \\nEs necesario  comprender que cada gestor de base de datos , tiene asignado un puerto por \\ndefecto, con el objetivo de evitar colisiones con otros gestores.  \\n2.OBJETIVO DE LA UNIDA D\\nGeneral:\\n\\uf0fcImplementar soluciones informáticas reales, utili zando correctamente y éticamente\\nestructuras de almacenamiento de datos.\\nEspecíficos:  \\n\\uf0fcDescribir los diversos modelos JDBC para la conectividad con Bases de Datos.\\n\\uf0fcImplementar clases en lenguaje Java, que se conecten con los diversos gestores de\\nbases de d atos y le envíen instrucciones SQL.'"
     },
     "execution_count": 64,
     "metadata": {},
     "output_type": "execute_result"
    }
   ],
   "source": [
    "jdbc[0]"
   ],
   "metadata": {
    "collapsed": false,
    "ExecuteTime": {
     "end_time": "2023-09-16T01:44:20.691521500Z",
     "start_time": "2023-09-16T01:44:20.642522800Z"
    }
   },
   "id": "c32065dbbc8f5bdc"
  },
  {
   "cell_type": "code",
   "execution_count": 67,
   "outputs": [],
   "source": [
    "docker = [1, 34, 5 ,5, [22, 32]]"
   ],
   "metadata": {
    "collapsed": false,
    "ExecuteTime": {
     "end_time": "2023-09-16T01:45:37.313538700Z",
     "start_time": "2023-09-16T01:45:37.301543100Z"
    }
   },
   "id": "a66373505e92c6d8"
  }
 ],
 "metadata": {
  "kernelspec": {
   "display_name": "Python 3",
   "language": "python",
   "name": "python3"
  },
  "language_info": {
   "codemirror_mode": {
    "name": "ipython",
    "version": 2
   },
   "file_extension": ".py",
   "mimetype": "text/x-python",
   "name": "python",
   "nbconvert_exporter": "python",
   "pygments_lexer": "ipython2",
   "version": "2.7.6"
  }
 },
 "nbformat": 4,
 "nbformat_minor": 5
}
