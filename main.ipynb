{
 "cells": [
  {
   "cell_type": "code",
   "execution_count": 21,
   "id": "initial_id",
   "metadata": {
    "collapsed": true,
    "ExecuteTime": {
     "end_time": "2023-09-09T04:20:07.087495900Z",
     "start_time": "2023-09-09T04:20:07.076654200Z"
    }
   },
   "outputs": [],
   "source": [
    "from nltk.tokenize import word_tokenize\n",
    "from azure.ai.textanalytics import TextAnalyticsClient, ExtractSummaryAction\n",
    "from azure.core.credentials import AzureKeyCredential"
   ]
  },
  {
   "cell_type": "code",
   "execution_count": 8,
   "outputs": [],
   "source": [
    "%run ./functions.ipynb"
   ],
   "metadata": {
    "collapsed": false,
    "ExecuteTime": {
     "end_time": "2023-09-09T04:05:49.447142900Z",
     "start_time": "2023-09-09T04:05:49.431517Z"
    }
   },
   "id": "6e7dba68af3c7394"
  },
  {
   "cell_type": "code",
   "execution_count": 23,
   "outputs": [],
   "source": [
    "db = read_pdf(\"files/Bases de datos.pdf\")"
   ],
   "metadata": {
    "collapsed": false,
    "ExecuteTime": {
     "end_time": "2023-09-09T04:20:11.948368800Z",
     "start_time": "2023-09-09T04:20:11.745248300Z"
    }
   },
   "id": "f32ee49cdef68345"
  },
  {
   "cell_type": "code",
   "execution_count": 31,
   "outputs": [
    {
     "data": {
      "text/plain": "['UNIVERSIDAD',\n 'DE',\n 'EL',\n 'SALVADOR',\n 'EN',\n 'LÍNEA',\n 'FACULTAD',\n 'DE',\n 'INGENIERÍA',\n 'Y',\n 'ARQUITECTURA',\n 'PROGRAMACION',\n 'III',\n 'Este',\n 'material',\n 'sido',\n 'proporcionado',\n 'estudiante',\n 'marco',\n 'formación',\n 'través',\n 'carrera',\n 'línea',\n 'Universidad',\n 'El',\n 'Salvador',\n '.',\n 'Se',\n 'respetado',\n 'derechos',\n 'autor',\n 'elaboración',\n '.',\n 'El',\n 'debido',\n 'uso',\n 'mismo',\n 'responsabilidad',\n 'estudiante',\n '.',\n 'ALMACENAMIENTO',\n 'DE',\n 'DATOS',\n '1.INTRODUCCIÓN',\n 'Hasta',\n 'momento',\n 'estudiado',\n 'almacenamiento',\n 'datos',\n ';',\n 'utilizando',\n 'archivos',\n 'texto',\n ',',\n 'así',\n 'tablas',\n 'contendidas',\n 'bases',\n 'datos',\n '.',\n 'Es',\n 'importante',\n 'tener',\n 'mente',\n 'conceptos',\n 'relacionados',\n 'manejo',\n 'bases',\n 'datos',\n 'relacionales',\n ',',\n 'gestión',\n 'través',\n 'lenguaje',\n 'SQL',\n '.',\n 'Pero',\n 'serviría',\n 'tener',\n 'aplicación',\n 'base',\n 'datos',\n ';',\n 'relacionaran',\n '.',\n 'Recordemos',\n 'travé',\n 's',\n 'programas',\n 'aplicación',\n ',',\n 'vamos',\n 'gestionar',\n 'datos',\n 'almacenados',\n 'l',\n 'base',\n 'datos',\n '.',\n 'Para',\n 'efectuar',\n 'dicha',\n 'correlación',\n 'componentes',\n ',',\n 'deberemos',\n 'lograr',\n 'enlazar',\n 'aplicación',\n 'base',\n 'datos',\n ';',\n 'través',\n 'correspondiente',\n 'driver',\n 'proporciona',\n 'do',\n 'fabricante',\n 'gestor',\n 'datos',\n '.',\n 'Lo',\n 'interesante',\n ',',\n 'podemos',\n 'lleva',\n 'r',\n 'instrucciones',\n 'SQL',\n 'clases',\n 'java',\n 'insertarlas',\n 'correspondiente',\n 'procesamiento',\n '.',\n 'Estas',\n 'clases',\n 'Java',\n 'importan',\n 'librerías',\n 'permiten',\n 'conexión',\n ',',\n 'además',\n 'debemos',\n 'agregar',\n 'String',\n 'vamos',\n 'colocar',\n 'todas',\n 'directrices',\n 'neces',\n 'arias',\n 'llegar',\n 'base',\n 'datos',\n '.',\n 'Dentro',\n 'directrices',\n 'encuentra',\n 'nombre',\n 'base',\n 'datos',\n ',',\n 'usuario',\n ',',\n 'clave',\n ',',\n 'puerto',\n 'defecto',\n 'gestor',\n '(',\n 'caso',\n 'herramienta',\n 'postgress',\n 'sql',\n ',',\n 'puerto',\n '5232',\n ')',\n 'di',\n 'rección',\n 'servidor',\n '.',\n 'Es',\n 'necesario',\n 'comprender',\n 'cada',\n 'gestor',\n 'base',\n 'datos',\n ',',\n 'asignado',\n 'puerto',\n 'defecto',\n ',',\n 'objetivo',\n 'evitar',\n 'colisiones',\n 'gestores',\n '.',\n '2.OBJETIVO',\n 'DE',\n 'LA',\n 'UNIDA',\n 'D',\n 'General',\n ':',\n '\\uf0fcImplementar',\n 'soluciones',\n 'informáticas',\n 'reales',\n ',',\n 'utili',\n 'zando',\n 'correctamente',\n 'éticamente',\n 'estructuras',\n 'almacenamiento',\n 'datos',\n '.',\n 'Específicos',\n ':',\n '\\uf0fcDescribir',\n 'diversos',\n 'modelos',\n 'JDBC',\n 'conectividad',\n 'Bases',\n 'Datos',\n '.',\n '\\uf0fcImplementar',\n 'clases',\n 'lenguaje',\n 'Java',\n ',',\n 'conecten',\n 'diversos',\n 'gestores',\n 'bases',\n 'd',\n 'atos',\n 'envíen',\n 'instrucciones',\n 'SQL',\n '.']"
     },
     "execution_count": 31,
     "metadata": {},
     "output_type": "execute_result"
    }
   ],
   "source": [
    "[w for w in word_tokenize(db[0]) if not w in stop_words]"
   ],
   "metadata": {
    "collapsed": false,
    "ExecuteTime": {
     "end_time": "2023-09-09T04:27:39.590693700Z",
     "start_time": "2023-09-09T04:27:39.575065300Z"
    }
   },
   "id": "113d1b891c9b3904"
  }
 ],
 "metadata": {
  "kernelspec": {
   "display_name": "Python 3",
   "language": "python",
   "name": "python3"
  },
  "language_info": {
   "codemirror_mode": {
    "name": "ipython",
    "version": 2
   },
   "file_extension": ".py",
   "mimetype": "text/x-python",
   "name": "python",
   "nbconvert_exporter": "python",
   "pygments_lexer": "ipython2",
   "version": "2.7.6"
  }
 },
 "nbformat": 4,
 "nbformat_minor": 5
}
