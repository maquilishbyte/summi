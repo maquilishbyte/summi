{
  "cells": [
    {
      "cell_type": "code",
      "source": "!pip install -r requirements.txt",
      "metadata": {
        "source_hash": "7958d4a9",
        "execution_start": 1700713241950,
        "execution_millis": 6880,
        "is_output_hidden": true,
        "deepnote_to_be_reexecuted": false,
        "deepnote_app_is_output_hidden": true,
        "cell_id": "068f551144b84c8e9da07be9537f9a22",
        "deepnote_cell_type": "code"
      },
      "outputs": [
        {
          "name": "stdout",
          "text": "Collecting PyPDF2==3.0.1\n  Downloading pypdf2-3.0.1-py3-none-any.whl (232 kB)\n\u001b[2K     \u001b[90m━━━━━━━━━━━━━━━━━━━━━━━━━━━━━━━━━━━━━━\u001b[0m \u001b[32m232.6/232.6 kB\u001b[0m \u001b[31m26.6 MB/s\u001b[0m eta \u001b[36m0:00:00\u001b[0m\n\u001b[?25hCollecting azure-ai-textanalytics==5.3.0b2\n  Downloading azure_ai_textanalytics-5.3.0b2-py3-none-any.whl (321 kB)\n\u001b[2K     \u001b[90m━━━━━━━━━━━━━━━━━━━━━━━━━━━━━━━━━━━━━━\u001b[0m \u001b[32m321.5/321.5 kB\u001b[0m \u001b[31m25.8 MB/s\u001b[0m eta \u001b[36m0:00:00\u001b[0m\n\u001b[?25hCollecting nltk==3.8.1\n  Downloading nltk-3.8.1-py3-none-any.whl (1.5 MB)\n\u001b[2K     \u001b[90m━━━━━━━━━━━━━━━━━━━━━━━━━━━━━━━━━━━━━━━━\u001b[0m \u001b[32m1.5/1.5 MB\u001b[0m \u001b[31m83.3 MB/s\u001b[0m eta \u001b[36m0:00:00\u001b[0m\n\u001b[?25hRequirement already satisfied: typing_extensions>=3.10.0.0 in /shared-libs/python3.9/py/lib/python3.9/site-packages (from PyPDF2==3.0.1->-r requirements.txt (line 1)) (4.4.0)\nCollecting azure-core<2.0.0,>=1.24.0\n  Downloading azure_core-1.29.5-py3-none-any.whl (192 kB)\n\u001b[2K     \u001b[90m━━━━━━━━━━━━━━━━━━━━━━━━━━━━━━━━━━━━━━\u001b[0m \u001b[32m192.4/192.4 kB\u001b[0m \u001b[31m39.9 MB/s\u001b[0m eta \u001b[36m0:00:00\u001b[0m\n\u001b[?25hCollecting azure-common~=1.1\n  Downloading azure_common-1.1.28-py2.py3-none-any.whl (14 kB)\nRequirement already satisfied: isodate<1.0.0,>=0.6.1 in /shared-libs/python3.9/py/lib/python3.9/site-packages (from azure-ai-textanalytics==5.3.0b2->-r requirements.txt (line 2)) (0.6.1)\nRequirement already satisfied: regex>=2021.8.3 in /shared-libs/python3.9/py/lib/python3.9/site-packages (from nltk==3.8.1->-r requirements.txt (line 3)) (2022.9.13)\nRequirement already satisfied: joblib in /shared-libs/python3.9/py/lib/python3.9/site-packages (from nltk==3.8.1->-r requirements.txt (line 3)) (1.2.0)\nRequirement already satisfied: tqdm in /shared-libs/python3.9/py/lib/python3.9/site-packages (from nltk==3.8.1->-r requirements.txt (line 3)) (4.64.1)\nRequirement already satisfied: click in /shared-libs/python3.9/py/lib/python3.9/site-packages (from nltk==3.8.1->-r requirements.txt (line 3)) (8.1.3)\nCollecting typing_extensions>=3.10.0.0\n  Downloading typing_extensions-4.8.0-py3-none-any.whl (31 kB)\nRequirement already satisfied: six>=1.11.0 in /shared-libs/python3.9/py-core/lib/python3.9/site-packages (from azure-core<2.0.0,>=1.24.0->azure-ai-textanalytics==5.3.0b2->-r requirements.txt (line 2)) (1.16.0)\nRequirement already satisfied: requests>=2.18.4 in /shared-libs/python3.9/py/lib/python3.9/site-packages (from azure-core<2.0.0,>=1.24.0->azure-ai-textanalytics==5.3.0b2->-r requirements.txt (line 2)) (2.28.1)\nRequirement already satisfied: idna<4,>=2.5 in /shared-libs/python3.9/py-core/lib/python3.9/site-packages (from requests>=2.18.4->azure-core<2.0.0,>=1.24.0->azure-ai-textanalytics==5.3.0b2->-r requirements.txt (line 2)) (3.4)\nRequirement already satisfied: urllib3<1.27,>=1.21.1 in /shared-libs/python3.9/py/lib/python3.9/site-packages (from requests>=2.18.4->azure-core<2.0.0,>=1.24.0->azure-ai-textanalytics==5.3.0b2->-r requirements.txt (line 2)) (1.26.12)\nRequirement already satisfied: certifi>=2017.4.17 in /shared-libs/python3.9/py/lib/python3.9/site-packages (from requests>=2.18.4->azure-core<2.0.0,>=1.24.0->azure-ai-textanalytics==5.3.0b2->-r requirements.txt (line 2)) (2022.9.24)\nRequirement already satisfied: charset-normalizer<3,>=2 in /shared-libs/python3.9/py-core/lib/python3.9/site-packages (from requests>=2.18.4->azure-core<2.0.0,>=1.24.0->azure-ai-textanalytics==5.3.0b2->-r requirements.txt (line 2)) (2.1.1)\nInstalling collected packages: azure-common, typing_extensions, nltk, PyPDF2, azure-core, azure-ai-textanalytics\n  Attempting uninstall: typing_extensions\n    Found existing installation: typing_extensions 4.4.0\n    Not uninstalling typing-extensions at /shared-libs/python3.9/py/lib/python3.9/site-packages, outside environment /root/venv\n    Can't uninstall 'typing_extensions'. No files were found to uninstall.\n  Attempting uninstall: nltk\n    Found existing installation: nltk 3.7\n    Not uninstalling nltk at /shared-libs/python3.9/py/lib/python3.9/site-packages, outside environment /root/venv\n    Can't uninstall 'nltk'. No files were found to uninstall.\nSuccessfully installed PyPDF2-3.0.1 azure-ai-textanalytics-5.3.0b2 azure-common-1.1.28 azure-core-1.29.5 nltk-3.8.1 typing_extensions-4.8.0\n\n\u001b[1m[\u001b[0m\u001b[34;49mnotice\u001b[0m\u001b[1;39;49m]\u001b[0m\u001b[39;49m A new release of pip is available: \u001b[0m\u001b[31;49m23.0.1\u001b[0m\u001b[39;49m -> \u001b[0m\u001b[32;49m23.3.1\u001b[0m\n\u001b[1m[\u001b[0m\u001b[34;49mnotice\u001b[0m\u001b[1;39;49m]\u001b[0m\u001b[39;49m To update, run: \u001b[0m\u001b[32;49mpip install --upgrade pip\u001b[0m\n",
          "output_type": "stream"
        }
      ],
      "execution_count": 2,
      "block_group": "659f304acef44a90bae75c79e271c095"
    },
    {
      "cell_type": "code",
      "source": "nltk.download(\"stopwords\")",
      "metadata": {
        "source_hash": "e3cb0d50",
        "execution_start": 1700713368190,
        "execution_millis": 40,
        "is_output_hidden": true,
        "deepnote_to_be_reexecuted": false,
        "deepnote_app_is_output_hidden": true,
        "cell_id": "9fc6301689c04218a16e401e897363f7",
        "deepnote_cell_type": "code"
      },
      "outputs": [
        {
          "name": "stderr",
          "text": "[nltk_data] Downloading package stopwords to /root/nltk_data...\n[nltk_data]   Unzipping corpora/stopwords.zip.\n",
          "output_type": "stream"
        },
        {
          "output_type": "execute_result",
          "execution_count": 8,
          "data": {
            "text/plain": "True"
          },
          "metadata": {}
        }
      ],
      "execution_count": 8,
      "block_group": "659f304acef44a90bae75c79e271c095"
    },
    {
      "cell_type": "code",
      "source": "from nltk.tokenize import word_tokenize\nfrom azure.ai.textanalytics import TextAnalyticsClient, ExtractSummaryAction\nfrom azure.core.credentials import AzureKeyCredential",
      "metadata": {
        "collapsed": true,
        "ExecuteTime": {
          "end_time": "2023-09-16T01:38:42.552710300Z",
          "start_time": "2023-09-16T01:38:42.543711600Z"
        },
        "source_hash": "1c79b94a",
        "execution_start": 1700713269050,
        "execution_millis": 753,
        "deepnote_to_be_reexecuted": false,
        "cell_id": "bfb0840eaf22449ca7722e54f0757ada",
        "deepnote_cell_type": "code"
      },
      "outputs": [],
      "execution_count": 3,
      "block_group": "725a4142aedf4566a81aa4670850948b"
    },
    {
      "cell_type": "code",
      "source": "%run /work/summi/functions.ipynb",
      "metadata": {
        "collapsed": false,
        "ExecuteTime": {
          "end_time": "2023-09-16T01:38:42.571707900Z",
          "start_time": "2023-09-16T01:38:42.551712300Z"
        },
        "source_hash": "1271ec12",
        "execution_start": 1700713383891,
        "execution_millis": 643,
        "deepnote_to_be_reexecuted": false,
        "cell_id": "ca8d5b8ad2e143beb498a5b2566a9142",
        "deepnote_cell_type": "code"
      },
      "outputs": [
        {
          "name": "stderr",
          "text": "[nltk_data] Downloading package punkt to /root/nltk_data...\n[nltk_data]   Package punkt is already up-to-date!\n",
          "output_type": "stream"
        }
      ],
      "execution_count": 9,
      "block_group": "725a4142aedf4566a81aa4670850948b"
    },
    {
      "cell_type": "code",
      "source": "jdbc = read_pdf(\"/work/summi/files/Bases de datos.pdf\")\nvariables = read_pdf(\"/work/summi/files/Variables aleatorias discretas.pdf\")",
      "metadata": {
        "collapsed": false,
        "ExecuteTime": {
          "end_time": "2023-09-16T01:38:43.181710400Z",
          "start_time": "2023-09-16T01:38:42.566712600Z"
        },
        "source_hash": "1e0f5e5f",
        "execution_start": 1700713425543,
        "execution_millis": 2370,
        "deepnote_to_be_reexecuted": false,
        "cell_id": "8288218fe0584ad5ba3881ceb49dc7ad",
        "deepnote_cell_type": "code"
      },
      "outputs": [],
      "execution_count": 10,
      "block_group": "e9e627140682410f9d5dffad2d86a4f6"
    },
    {
      "cell_type": "code",
      "source": "jdbc_headerless = remove_header(file=jdbc)\njdbc_stopless = remove_stopwords(jdbc_headerless)",
      "metadata": {
        "collapsed": false,
        "ExecuteTime": {
          "end_time": "2023-09-16T01:38:43.197709500Z",
          "start_time": "2023-09-16T01:38:43.182710700Z"
        },
        "source_hash": "4399a624",
        "execution_start": 1700713482306,
        "execution_millis": 31,
        "deepnote_to_be_reexecuted": false,
        "cell_id": "44c7b4f713d642ad92567ec8852246d8",
        "deepnote_cell_type": "code"
      },
      "outputs": [],
      "execution_count": 13,
      "block_group": "e157137be87a4641ad4d5c05ae64f0a6"
    },
    {
      "cell_type": "code",
      "source": "variables_headerless = remove_text(file=variables)\nvariables_stopless = remove_stopwords(variables_headerless)",
      "metadata": {
        "collapsed": false,
        "ExecuteTime": {
          "end_time": "2023-09-16T01:38:43.228937100Z",
          "start_time": "2023-09-16T01:38:43.198709100Z"
        },
        "source_hash": "8d117ee4",
        "deepnote_to_be_reexecuted": true,
        "cell_id": "4c81e1efee14402fa656e9aebd6d3a86",
        "deepnote_cell_type": "code"
      },
      "outputs": [],
      "execution_count": null,
      "block_group": "826770b82f7c448d8ee28a62a60da665"
    },
    {
      "cell_type": "code",
      "source": "create_doc(variables_stopless)",
      "metadata": {
        "collapsed": false,
        "ExecuteTime": {
          "end_time": "2023-09-16T01:39:08.413497700Z",
          "start_time": "2023-09-16T01:39:08.398497800Z"
        },
        "source_hash": "4127a4b9",
        "deepnote_to_be_reexecuted": true,
        "cell_id": "d8a3385aa5164a578b904c6d75232ba8",
        "deepnote_cell_type": "code"
      },
      "outputs": [
        {
          "data": {
            "text/plain": "'universidad salvador línea facultad ingeniería arquitectura métodos probabilísticos página 1 9 material sido proporcionado estudiante marco formación través carrera línea universidad salvador . respetado derechos autor elaboración . debido uso mismo resp onsabilidad estudiante . métodos probabilístic unidad ii : distribuciones probabilidades variable temas : 2.1 distribución probabilidades conjunta variables aleatorias discretas . 2.2 independencia variables aleatorias discretas . objetivo unida d calcular esperanzas , varianzas , covarianzas coeficientes correlación casos bivariados usando herramienta computacional . introducción existen casos sim ple variable necesita observar , sino dos variables deben observar estudiar fenómeno realidad . variables pueden relacionadas s í , denominamos “ dependencia ” . existen procedimientos estadísticos validar dependencia , variables aleatorias . trata unidad . aquí inicia concepto distribución probabilidades conjunta dos variables aleatorias caso discreto , luego analiza independencia . sigue estudio similar caso continuo . finalizando unidad formas cálculo esperanzas matemáticas , varianzas , covarianzas coeficiente correlación casos bivariados . procedimi ento estudiado caso bivariado puede hacer extensible dos variables aleatorias , dejaremos estudiante investigue cuenta ste caso si desea profundizar estudio . 2.1. distribución prob abilidades conjunta variables aleatorias discretas . existen casos vida diaria participan variable aleatoria descripción . ejemplo , trata pronosticar tiempo ( universidad salvador línea facultad ingeniería arquitectura métodos probabilísticos página 2 9 material sido proporcionado estudiante marco formación través carrera línea universidad salvador . respetado derechos autor elaboración . debido uso mismo resp onsabilidad estudiante . condiciones atmosféricas ) región , relacio nan variabas variables , tales temperatura , velocidad viento , humedad . conoce , ejemplo , cierta dependencia , ejemplo , lluvia , viene acompañada fuertes vientos temperatura dism inuye . aunque modelo determinístico , ocurre siempre misma forma , trata mas bien tendencia . modelo describa exactamente comportamiento deberá incluir muchas variables aleatorias , tema , aunq ue escapa alcances curso , origen temas estudiaremos aquí . iniciamos entender relación dependencia pueda existir dos variables aleatorias . x dos variables aleatorias discretas , definidas so bre mismo espacio muestral . mostraremos concepto medio ejemplo , suponga lanzamos moneda tres veces , siguiente figura ilustra número resultados posibles experimento : figura 2.1.1 diagrama árbol caso lanzamiento moneda tres veces . allí resulta espacio s = { ccc , ccs , csc , css , scc , scs , ssc , sss } . vamos ahora definir dos variables aleatorias dicho espacio muestral . x número caras tres lanzamientos , número lanzamiento ocurrió primera cara . universidad salvador línea facultad ingeniería arquitectura métodos probabilísticos página 3 9 material sido proporcionado estudiante marco formación través carrera línea universidad salvador . respetado derechos autor elaboración . debido uso mismo resp onsabilidad estudiante . entonces espacio muestral asociado x s x = { 3 , 2 , 1 , 0 } s = { 1 , 2 , 3 , 0 } . 0 s x , indica cara tres lanzamientos , 0 s significa nunca obtuvo cara tres lanzamientos . vamos ahora resumir datos espacio muestral siguiente tabla , además incluye probabilidad ocurrencia resultados espacio muestral original . resultados ccc ccs csc css scc scs ssc sss x 3 2 2 1 2 1 1 0 1 1 1 1 2 2 3 0 probabilidad 1/8 1/8 1/8 1/8 1/8 1/8 1/8 1/8 tabla 2.1.1 resultado l experimento lanzar moneda tres veces valores posibles variables aleatorias x y. tabla anterior , vamos construir nueva tabla doble entrada , variable x variable y. ubicamos variable x parte superior debajo valores posibles . parte lateral izquierda ubicamos variable ( ) col umna siguiente valores . x 0 1 2 3 0 1 2 3 tabla 2.1.2 formato tabla conjunta ahora vamos llenar tabla , casillas colocaremos probabilidad caso correspondiente variable x tome valor indicado encabezado columna simultáneamente variable tome valor encabezado fila corresponde . ejemplo , casilla intersección x=0 y=0 , ubicaremos probabilidad x valga cero valga cero . revisar casos tabla 2.1.1 , vemos solo caso x=0 y=0 , , probabilidad ubic ar dicha casilla 1/8 . así : x 0 1 2 3 0 1/8 1 universidad salvador línea facultad ingeniería arquitectura métodos probabilísticos página 4 9 material sido proporcionado estudiante marco formación través carrera línea universidad salvador . respetado derechos autor elaboración . debido uso mismo resp onsabilidad estudiante . así , construye tabla conjunta probabilidades x , muestra continuación : x 0 1 2 3 0 1/8 0 0 0 1 0 1/8 2/8 1/8 2 0 1/8 1/8 0 3 0 1/8 0 0 tabla 2.1.3 tabla distribución probabilidades conjunta x y. ahora tabla puede proceder responder casos probabilidades relacionen x , siguiente forma : p ( x = x = ) . ejemplos : encuentre siguientes probabilidades ) p ( x=1 y=2 ) b ) p ( x≤1 y=2 ) c ) p ( x≤1 ≤2 ) d ) p ( x≤1 ó ≤2 ) resolver casos , solo debemos recorrer tabla 2.1.3 sumar cuadros probabilidades cumplen requerimiento . ) p ( x =1 = 2 ) , solo cuadro suple dicho requerimiento , or , respuesta 1/8 . b ) p ( x≤1 y=2 ) , recomienda especie técnica metodológica resolver tipo caso crear silueta tabla anterior sombrear forma cuadros cumplen requerimiento variable x forma cuadros satisfacen requerimiento variable , luego analiza cumplen ambos casos . así , requerimiento x : requerimiento : universidad salvador línea facultad ingeniería arquitectura métodos probabilísticos página 5 9 material sido proporcionado estudiante marco formación través carrera línea universidad salvador . respetado derechos autor elaboración . debido uso mismo resp onsabilidad estudiante . , analizar conjunción , únicos satisfacen requerimiento : debido únicos cuadros cumplen ambos requerimientos simultáneamente . , probabilidad : 0 + 1/8 = 1/8 . verifique ud . siguientes respuestas , usando criterio anterior : c ) p ( x≤1 ≤2 ) = 3/8 . d ) p ( x≤1 ó ≤2 ) = 1. proce demos ahora establecer definición distribución probabilidades conjunta dos variables aleatorias discretas x y. definición : x , dos variables aleatorias discretas , define conjunta ambas aquella satisface p ( x =x y=y ) . asociada , definición distribución conjunta probabilidades aparece definición probabilidades marginales x y. marginales x , obtiene sumando valores probabilidades fila ( marginal ) columna ( marginal x ) , anotando dicho resultado margen tabla probabilidades conjunta ( allí nombre probabilidades marginales ) . continuación , muestra tabla distribuciones conjunta x d caso anterior junto distribuciones marginales x y. note suma todas marginales siempre debe sumar 1 , filas columnas , acumulan todas probabilidades ( suma probabilidades total siem pre suma 1 ) . universidad salvador línea facultad ingeniería arquitectura métodos probabilísticos página 6 9 material sido proporcionado estudiante marco formación través carrera línea universidad salvador . respetado derechos autor elaboración . debido uso mismo resp onsabilidad estudiante . x marginal 0 1 2 3 0 1/8 0 0 0 1/8 1 0 1/8 2/8 1/8 4/8 2 0 1/8 1/8 0 2/8 3 0 1/8 0 0 1/8 marginal x 1/8 3/8 3/8 1/8 1 tabla 2.1.4 tabla distribuciones probabilidades conjunta x , junto distribuciones probabilidades marginales x , caso lanzamiento moneda 3 veces . definición probabilidades marginales sigue : definición : x , dos variables aleatorias discretas , cuya distribución probabilid ades conjunta viene dada p ( x=x y=y ) , entonces distribuciones marginales x obtienen medio : 𝑃 ( 𝑋=𝑥 ) =∑𝑃 ( 𝑋=𝑥 ∧ 𝑌=𝑦 ) ∀𝑦 𝑃 ( 𝑌=𝑦 ) =∑𝑃 ( 𝑋=𝑥 ∧ 𝑌=𝑦 ) ∀𝑥 2.2. independencia var iables aleatorias di scretas . independencia dos variables aleatorias discretas verifica fácilmente tabla distribución probabilidades conjunta variables x y. dos variables aleatorias discretas independientes debe cumplirse producto dos marginales igual valor respectiva conjunta cada elemento tabla conjunta . ver forma gráfica , producido siguiente ilustración , cuadros rojo azul indican respectivas probabilidad marginales x , cambio cuadro verde contiene valor probabilidad conjunta x y. entonces independencia logra si producto marginales igual valor conjunta cada cuadro conjunta . si falla sta regla , entonces independientes . universidad salvador línea facultad ingeniería arquitectura métodos probabilísticos página 7 9 material sido proporcionado estudiante marco formación través carrera línea universidad salvador . respetado derechos autor elaboración . debido uso mismo resp onsabilidad estudiante . figura 2.2.1 ilustración relación debe existir marginales conjunta mostrar independencia . continuación , establece definición independencia variables aleatorias discret as . definición : dos variables aleatorias discretas x , independientes , si solamente si , 𝑃 ( 𝑋=𝑥 ∧ 𝑌=𝑦 ) =𝑃 ( 𝑋=𝑥 ) ∗𝑃 ( 𝑌=𝑦 ) valores x rango x valores rango y. ejemplo , verificaremos si variables aleatoria s defini das numeral 1.1 independientes . bastará probar caso cumple , decir independientes . ello , analizamos caso d conjunta p ( x=0 y=0 ) =1 /8 . dado marginal x p ( x=0 ) = 1/8 marginal p ( y=0 ) = 1/8 . verifica producto marginales p ( x = 0 ) * p ( = 0 ) = 1/64 igual 1/8 valor conjunta , , variables x independientes . 2.3. sección ejercicio s. 1. suponga qu lanza moneda tres veces , construya distribución probabilidades conjunta caso define espacio muestral asociado dicho experimento sigue : x = número sellos obtenidos tres lanzamientos = longitud corrida sellos cada resultado posible . además , calcule siguientes probabilidades : a. p ( x=2 y=3 ) . b. p ( x≤2 ≤1 ) . c. p ( x≤2 y=3 ) . d. p ( x≤1 ≥2 ) . universidad salvador línea facultad ingeniería arquitectura métodos probabilísticos página 8 9 material sido proporcionado estudiante marco formación través carrera línea universidad salvador . respetado derechos autor elaboración . debido uso mismo resp onsabilidad estudiante . 2. determine si variables ejercicio 1 independiente . 3. basado condición independencia variables x , complete siguiente cuadro d istribución probabilidades conjunta x . 2.4. bibliografía 1. solomon . f. ( 1987 ) probability and stochastic processes . new jersey , usa . prentice hall inc. 2. bhat , u.n. & miller , g. k. ( 2002 ) elements of applied stochastic processes . new york , usa . wiley -interscience , john wiley & sons , inc. 3. bailey , n. t . j . ( 1964 ) the elements of stochastic processes , with applications to the natural sciences . new york , usa . john wiley & sons , inc. 4. baudin , m. , ( 2010 ) introduction to scilab , france , the scilab consortium – digiteo . 5. canavos , g. , ( 1998 ) , probabilidad estadística : aplicaciones métodos , mexico , d.f. , mcgraw -hill/interamericana mexico s.a. c.v. 6. devore , j. , ( 2008 ) . probabilidad estadística : ingeniería ciencias ( 7ª . ed . ) m exico , d.f. , cengage learning editores s.a c.v. 7. diccionario merrian -webster retomado : http : //www.merriam -webster.com ( 2017 ) . 8. dodge , . ( 2006 ) diccionario oxford términos estadísticos . 9. everitt , b. , skr ondal , a. , ( 2010 ) the cambridge dictionary of statistics ( 4ª . ed . ) new york , u.s.a. cambridge university press . 10. hines , w. , montgomery , d. ( 1993 ) . probabilidad estadística : ingeniería administración ( 3er ed . ) mexico , d.f. , cecsa . 11. johnson , r. , ( 1998 ) probabilidad estadística : ingenieros miller freund ( 5ª ed . ) mexico , d.f. , prentice -hall hispanoamericana . universidad salvador línea facultad ingeniería arquitectura métodos probabilísticos página 9 9 material sido proporcionado estudiante marco formación través carrera línea universidad salvador . respetado derechos autor elaboración . debido uso mismo resp onsabilidad estudiante . 12. mendenhall , w. , beaver , r. , beaver , b. , ( 2010 ) . introducción probabilidad estadística ( 13ª ed . ) mexico , d.f. , cengage learning ed itores s.a c.v. 13. žitkcović , g. ( 2010 ) introduction to stochastic processes – lecture notes . austin , texas , usa . department of mathematics . the university of texas . 14. taylor , h.m. & karlin , s. ( 1998 ) an introduction to stochastic modeling . new york , usa . academic press . 15. knill , . ( 2009 ) probability and stochastic processes with applications . new delhi , india . overseas press india private limited . 16. ross s. m. ( 1996 ) stochastic processes . new york , usa , john wiley and sons , inc. 17. feller , w. ( 1968 ) an introduction to probability theory and its applications , vol . 1. new york , usa , john wiley and sons , inc. 18. wolf , r. w. ( 1989 ) stochastic modeling and the theory of queues . new jersey , usa . prentice hall inc. 19. yates , r. d. & goodman , d. j . ( 1983 ) probability and stochastics processes . new york , usa . john wiley and sons , inc. glosario definición distribución probabilidades conjunta caso discreto : x , dos variables aleatorias discretas , define conjunta ambas aquella satisface p ( x=x y=y ) . definición probabilidades marginales x caso discreto : x , dos variables aleatorias discretas , cuya distribución probabil idades conjunta viene dada p ( x=x y=y ) , entonces distribuciones marginales x obtienen medio : 𝑃 ( 𝑋=𝑥 ) =∑𝑃 ( 𝑋=𝑥 ∧ 𝑌=𝑦 ) ∀𝑦 𝑃 ( 𝑌=𝑦 ) =∑𝑃 ( 𝑋=𝑥 ∧ 𝑌=𝑦 ) ∀𝑥 definición independencia variables aleatorias discretas : dos variables aleatorias discretas x , independientes , si solamente si , 𝑃 ( 𝑋=𝑥 ∧ 𝑌=𝑦 ) =𝑃 ( 𝑋=𝑥 ) ∗ 𝑃 ( 𝑌=𝑦 ) valores x rango x valores rango .'"
          },
          "execution_count": 63,
          "metadata": {},
          "output_type": "execute_result"
        }
      ],
      "execution_count": null,
      "block_group": "7f8b01302b9f4caf85773bc48848032d"
    },
    {
      "cell_type": "code",
      "source": "jdbc[0]",
      "metadata": {
        "collapsed": false,
        "ExecuteTime": {
          "end_time": "2023-09-16T01:44:20.691521500Z",
          "start_time": "2023-09-16T01:44:20.642522800Z"
        },
        "source_hash": "c60e550a",
        "deepnote_to_be_reexecuted": true,
        "cell_id": "35f9858685c14615a26457c2721e464a",
        "deepnote_cell_type": "code"
      },
      "outputs": [
        {
          "data": {
            "text/plain": "'  UNIVERSIDAD DE EL SALVADOR EN LÍNEA  \\n FACULTAD DE INGENIERÍA Y ARQUITECTURA  \\n PROGRAMACION  III \\nEste material ha sido proporcionado al estudiante en el marco de su formación a través de una carrera en línea en \\nla Universidad de El Salvador.  Se han respetado los derechos de autor para su elaboración. El debido uso del mismo es \\nresponsabilidad del estudiante . ALMACENAMIENTO DE DATOS\\n1.INTRODUCCIÓN\\nHasta el momento hemos estudiado el almacenamiento de datos; utilizando archivos de texto, \\nasí como tablas contendidas en bases de datos.  \\nEs importante tener en mente los conceptos relacionados al manejo de bases de datos \\nrelacionales, y su gestión a través de lenguaje SQL.  \\nPero de nada serviría tener una aplicación y una base de datos; sin que se relacionaran. \\nRecordemos que a  travé s de los programas de nuestra aplicación, vamos a gestionar los datos \\nalmacenados en l a base de datos.  \\nPara efectuar dicha correlación de componentes, deberemos  lograr enlazar nuestra aplicación \\ncon la base de datos; a través del correspondiente driver proporciona do por el fabricante del \\ngestor de datos.  \\nLo interesante , es que podemos lleva r instrucciones SQL  a nuestras clases java e insertarlas para \\nsu correspondiente procesamiento. Estas clases Java  importan librerías que nos permiten la \\nconexión, pero además debemos agregar un String con el  cual vamos a colocar todas las \\ndirectrices neces arias para llegar hasta la base de datos. Dentro de estas directrices se encuentra \\nel nombre de la base de datos, el usuario, su clave, el puerto por defecto de nuestro gestor (para \\nel caso de nuestra herramienta postgress sql, será el puerto 5232)  y la di rección del servidor . \\nEs necesario  comprender que cada gestor de base de datos , tiene asignado un puerto por \\ndefecto, con el objetivo de evitar colisiones con otros gestores.  \\n2.OBJETIVO DE LA UNIDA D\\nGeneral:\\n\\uf0fcImplementar soluciones informáticas reales, utili zando correctamente y éticamente\\nestructuras de almacenamiento de datos.\\nEspecíficos:  \\n\\uf0fcDescribir los diversos modelos JDBC para la conectividad con Bases de Datos.\\n\\uf0fcImplementar clases en lenguaje Java, que se conecten con los diversos gestores de\\nbases de d atos y le envíen instrucciones SQL.'"
          },
          "execution_count": 64,
          "metadata": {},
          "output_type": "execute_result"
        }
      ],
      "execution_count": null,
      "block_group": "ca69165d33b14ca88de0faaf7004acd1"
    },
    {
      "cell_type": "code",
      "source": "docker = [1, 34, 5 ,5, [22, 32]]",
      "metadata": {
        "collapsed": false,
        "ExecuteTime": {
          "end_time": "2023-09-16T01:45:37.313538700Z",
          "start_time": "2023-09-16T01:45:37.301543100Z"
        },
        "source_hash": "664ff318",
        "deepnote_to_be_reexecuted": true,
        "cell_id": "63e3c5c97d0546328030bd5d2de9bed3",
        "deepnote_cell_type": "code"
      },
      "outputs": [],
      "execution_count": null,
      "block_group": "96ffac4ceecd44e99c7172706724468a"
    },
    {
      "cell_type": "markdown",
      "source": "<a style='text-decoration:none;line-height:16px;display:flex;color:#5B5B62;padding:10px;justify-content:end;' href='https://deepnote.com?utm_source=created-in-deepnote-cell&projectId=49d23fa9-fdef-4e8b-9258-5e3409875cb0' target=\"_blank\">\n<img alt='Created in deepnote.com' style='display:inline;max-height:16px;margin:0px;margin-right:7.5px;' src='data:image/svg+xml;base64,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' > </img>\nCreated in <span style='font-weight:600;margin-left:4px;'>Deepnote</span></a>",
      "metadata": {
        "created_in_deepnote_cell": true,
        "deepnote_cell_type": "markdown"
      }
    }
  ],
  "nbformat": 4,
  "nbformat_minor": 0,
  "metadata": {
    "deepnote": {},
    "kernelspec": {
      "name": "python3",
      "language": "python",
      "display_name": "Python 3"
    },
    "language_info": {
      "name": "python",
      "version": "2.7.6",
      "mimetype": "text/x-python",
      "file_extension": ".py",
      "pygments_lexer": "ipython2",
      "codemirror_mode": {
        "name": "ipython",
        "version": 2
      },
      "nbconvert_exporter": "python"
    },
    "deepnote_notebook_id": "a1b5d2837acb4b81b29a5c6f93b4554b",
    "deepnote_execution_queue": []
  }
}