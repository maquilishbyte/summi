{
  "cells": [
    {
      "cell_type": "markdown",
      "source": "# Setup",
      "metadata": {
        "formattedRanges": [],
        "cell_id": "e15c7299c6aa450191b99a48089acf47",
        "deepnote_cell_type": "text-cell-h1"
      },
      "block_group": "d4b71c8c2a6246e28eef41b2cc0ff7b2"
    },
    {
      "cell_type": "code",
      "source": "!pip install -r requirements.txt",
      "metadata": {
        "source_hash": null,
        "execution_start": 1700713241950,
        "execution_millis": 6880,
        "is_output_hidden": true,
        "deepnote_to_be_reexecuted": false,
        "deepnote_app_is_output_hidden": true,
        "cell_id": "068f551144b84c8e9da07be9537f9a22",
        "deepnote_cell_type": "code"
      },
      "outputs": [
        {
          "name": "stdout",
          "text": "Collecting PyPDF2==3.0.1\n  Downloading pypdf2-3.0.1-py3-none-any.whl (232 kB)\n\u001b[2K     \u001b[90m━━━━━━━━━━━━━━━━━━━━━━━━━━━━━━━━━━━━━━\u001b[0m \u001b[32m232.6/232.6 kB\u001b[0m \u001b[31m26.6 MB/s\u001b[0m eta \u001b[36m0:00:00\u001b[0m\n\u001b[?25hCollecting azure-ai-textanalytics==5.3.0b2\n  Downloading azure_ai_textanalytics-5.3.0b2-py3-none-any.whl (321 kB)\n\u001b[2K     \u001b[90m━━━━━━━━━━━━━━━━━━━━━━━━━━━━━━━━━━━━━━\u001b[0m \u001b[32m321.5/321.5 kB\u001b[0m \u001b[31m25.8 MB/s\u001b[0m eta \u001b[36m0:00:00\u001b[0m\n\u001b[?25hCollecting nltk==3.8.1\n  Downloading nltk-3.8.1-py3-none-any.whl (1.5 MB)\n\u001b[2K     \u001b[90m━━━━━━━━━━━━━━━━━━━━━━━━━━━━━━━━━━━━━━━━\u001b[0m \u001b[32m1.5/1.5 MB\u001b[0m \u001b[31m83.3 MB/s\u001b[0m eta \u001b[36m0:00:00\u001b[0m\n\u001b[?25hRequirement already satisfied: typing_extensions>=3.10.0.0 in /shared-libs/python3.9/py/lib/python3.9/site-packages (from PyPDF2==3.0.1->-r requirements.txt (line 1)) (4.4.0)\nCollecting azure-core<2.0.0,>=1.24.0\n  Downloading azure_core-1.29.5-py3-none-any.whl (192 kB)\n\u001b[2K     \u001b[90m━━━━━━━━━━━━━━━━━━━━━━━━━━━━━━━━━━━━━━\u001b[0m \u001b[32m192.4/192.4 kB\u001b[0m \u001b[31m39.9 MB/s\u001b[0m eta \u001b[36m0:00:00\u001b[0m\n\u001b[?25hCollecting azure-common~=1.1\n  Downloading azure_common-1.1.28-py2.py3-none-any.whl (14 kB)\nRequirement already satisfied: isodate<1.0.0,>=0.6.1 in /shared-libs/python3.9/py/lib/python3.9/site-packages (from azure-ai-textanalytics==5.3.0b2->-r requirements.txt (line 2)) (0.6.1)\nRequirement already satisfied: regex>=2021.8.3 in /shared-libs/python3.9/py/lib/python3.9/site-packages (from nltk==3.8.1->-r requirements.txt (line 3)) (2022.9.13)\nRequirement already satisfied: joblib in /shared-libs/python3.9/py/lib/python3.9/site-packages (from nltk==3.8.1->-r requirements.txt (line 3)) (1.2.0)\nRequirement already satisfied: tqdm in /shared-libs/python3.9/py/lib/python3.9/site-packages (from nltk==3.8.1->-r requirements.txt (line 3)) (4.64.1)\nRequirement already satisfied: click in /shared-libs/python3.9/py/lib/python3.9/site-packages (from nltk==3.8.1->-r requirements.txt (line 3)) (8.1.3)\nCollecting typing_extensions>=3.10.0.0\n  Downloading typing_extensions-4.8.0-py3-none-any.whl (31 kB)\nRequirement already satisfied: six>=1.11.0 in /shared-libs/python3.9/py-core/lib/python3.9/site-packages (from azure-core<2.0.0,>=1.24.0->azure-ai-textanalytics==5.3.0b2->-r requirements.txt (line 2)) (1.16.0)\nRequirement already satisfied: requests>=2.18.4 in /shared-libs/python3.9/py/lib/python3.9/site-packages (from azure-core<2.0.0,>=1.24.0->azure-ai-textanalytics==5.3.0b2->-r requirements.txt (line 2)) (2.28.1)\nRequirement already satisfied: idna<4,>=2.5 in /shared-libs/python3.9/py-core/lib/python3.9/site-packages (from requests>=2.18.4->azure-core<2.0.0,>=1.24.0->azure-ai-textanalytics==5.3.0b2->-r requirements.txt (line 2)) (3.4)\nRequirement already satisfied: urllib3<1.27,>=1.21.1 in /shared-libs/python3.9/py/lib/python3.9/site-packages (from requests>=2.18.4->azure-core<2.0.0,>=1.24.0->azure-ai-textanalytics==5.3.0b2->-r requirements.txt (line 2)) (1.26.12)\nRequirement already satisfied: certifi>=2017.4.17 in /shared-libs/python3.9/py/lib/python3.9/site-packages (from requests>=2.18.4->azure-core<2.0.0,>=1.24.0->azure-ai-textanalytics==5.3.0b2->-r requirements.txt (line 2)) (2022.9.24)\nRequirement already satisfied: charset-normalizer<3,>=2 in /shared-libs/python3.9/py-core/lib/python3.9/site-packages (from requests>=2.18.4->azure-core<2.0.0,>=1.24.0->azure-ai-textanalytics==5.3.0b2->-r requirements.txt (line 2)) (2.1.1)\nInstalling collected packages: azure-common, typing_extensions, nltk, PyPDF2, azure-core, azure-ai-textanalytics\n  Attempting uninstall: typing_extensions\n    Found existing installation: typing_extensions 4.4.0\n    Not uninstalling typing-extensions at /shared-libs/python3.9/py/lib/python3.9/site-packages, outside environment /root/venv\n    Can't uninstall 'typing_extensions'. No files were found to uninstall.\n  Attempting uninstall: nltk\n    Found existing installation: nltk 3.7\n    Not uninstalling nltk at /shared-libs/python3.9/py/lib/python3.9/site-packages, outside environment /root/venv\n    Can't uninstall 'nltk'. No files were found to uninstall.\nSuccessfully installed PyPDF2-3.0.1 azure-ai-textanalytics-5.3.0b2 azure-common-1.1.28 azure-core-1.29.5 nltk-3.8.1 typing_extensions-4.8.0\n\n\u001b[1m[\u001b[0m\u001b[34;49mnotice\u001b[0m\u001b[1;39;49m]\u001b[0m\u001b[39;49m A new release of pip is available: \u001b[0m\u001b[31;49m23.0.1\u001b[0m\u001b[39;49m -> \u001b[0m\u001b[32;49m23.3.1\u001b[0m\n\u001b[1m[\u001b[0m\u001b[34;49mnotice\u001b[0m\u001b[1;39;49m]\u001b[0m\u001b[39;49m To update, run: \u001b[0m\u001b[32;49mpip install --upgrade pip\u001b[0m\n",
          "output_type": "stream"
        }
      ],
      "execution_count": null,
      "block_group": "659f304acef44a90bae75c79e271c095"
    },
    {
      "cell_type": "code",
      "source": "nltk.download(\"stopwords\")",
      "metadata": {
        "source_hash": null,
        "execution_start": 1700713368190,
        "execution_millis": 40,
        "is_output_hidden": true,
        "deepnote_to_be_reexecuted": false,
        "deepnote_app_is_output_hidden": true,
        "cell_id": "9fc6301689c04218a16e401e897363f7",
        "deepnote_cell_type": "code"
      },
      "outputs": [
        {
          "name": "stderr",
          "text": "[nltk_data] Downloading package stopwords to /root/nltk_data...\n[nltk_data]   Unzipping corpora/stopwords.zip.\n",
          "output_type": "stream"
        },
        {
          "output_type": "execute_result",
          "execution_count": 8,
          "data": {
            "text/plain": "True"
          },
          "metadata": {}
        }
      ],
      "execution_count": null,
      "block_group": "659f304acef44a90bae75c79e271c095"
    },
    {
      "cell_type": "code",
      "source": "from nltk.tokenize import word_tokenize\nfrom azure.ai.textanalytics import TextAnalyticsClient, ExtractSummaryAction\nfrom azure.core.credentials import AzureKeyCredential",
      "metadata": {
        "collapsed": true,
        "ExecuteTime": {
          "end_time": "2023-09-16T01:38:42.552710300Z",
          "start_time": "2023-09-16T01:38:42.543711600Z"
        },
        "source_hash": null,
        "execution_start": 1700713269050,
        "execution_millis": 753,
        "deepnote_to_be_reexecuted": false,
        "cell_id": "bfb0840eaf22449ca7722e54f0757ada",
        "deepnote_cell_type": "code"
      },
      "outputs": [],
      "execution_count": null,
      "block_group": "725a4142aedf4566a81aa4670850948b"
    },
    {
      "cell_type": "code",
      "source": "%run /work/summi/functions.ipynb",
      "metadata": {
        "collapsed": false,
        "ExecuteTime": {
          "end_time": "2023-09-16T01:38:42.571707900Z",
          "start_time": "2023-09-16T01:38:42.551712300Z"
        },
        "source_hash": null,
        "execution_start": 1700713383891,
        "execution_millis": 643,
        "deepnote_to_be_reexecuted": false,
        "cell_id": "ca8d5b8ad2e143beb498a5b2566a9142",
        "deepnote_cell_type": "code"
      },
      "outputs": [
        {
          "name": "stderr",
          "text": "[nltk_data] Downloading package punkt to /root/nltk_data...\n[nltk_data]   Package punkt is already up-to-date!\n",
          "output_type": "stream"
        }
      ],
      "execution_count": null,
      "block_group": "725a4142aedf4566a81aa4670850948b"
    },
    {
      "cell_type": "markdown",
      "source": "# Functions",
      "metadata": {
        "formattedRanges": [],
        "cell_id": "8b80007df455495d84183cf9c087243e",
        "deepnote_cell_type": "text-cell-h1"
      },
      "block_group": "9cd8c6f6ffbc4a16a064e11133091ed9"
    },
    {
      "cell_type": "code",
      "source": "def prepare_doc(path:str) -> str:\n    \"\"\"Create a string without header n stopwords\n\n    :param path: path where file .pdf is \n    :return a cleanned string\n    \"\"\"\n    doc_list = read_pdf(path)\n    doc_procesed = remove_header(file=doc_list)\n    doc_procesed = remove_stopwords(doc_procesed)\n    doc = create_doc(doc_procesed)\n    return doc",
      "metadata": {
        "source_hash": null,
        "execution_start": 1700714380136,
        "execution_millis": 5,
        "deepnote_to_be_reexecuted": false,
        "cell_id": "1451f1acdc7c4bc9b11077bcf8351852",
        "deepnote_cell_type": "code"
      },
      "outputs": [],
      "execution_count": null,
      "block_group": "3b11223ee50541afa78a91a595404c72"
    },
    {
      "cell_type": "markdown",
      "source": "# Azure implementation",
      "metadata": {
        "formattedRanges": [],
        "cell_id": "0684e4cfe2f84e69a4d6011d6f8578ed",
        "deepnote_cell_type": "text-cell-h1"
      },
      "block_group": "0087aae9ba7648229c1fda0f9a4f88a9"
    },
    {
      "cell_type": "markdown",
      "source": "For this, is required use Azure's textAnalytics API, so store your API access credentials in credentials environment variable.",
      "metadata": {
        "formattedRanges": [
          {
            "url": "https://learn.microsoft.com/en-us/azure/ai-services/language-service/summarization/overview?tabs=document-summarization",
            "type": "link",
            "ranges": [],
            "toCodePoint": 52,
            "fromCodePoint": 26
          },
          {
            "type": "marks",
            "marks": {
              "code": true
            },
            "toCodePoint": 104,
            "fromCodePoint": 93
          }
        ],
        "cell_id": "6271ae4b6bac480ca10549420f7c015a",
        "deepnote_cell_type": "text-cell-p"
      },
      "block_group": "a78bbc932e9a43a7b6eda7768fb8155b"
    },
    {
      "cell_type": "code",
      "source": "jdbc = prepare_doc(\"/work/summi/files/Bases de datos.pdf\")\nvariables = prepare_doc(\"/work/summi/files/Variables aleatorias discretas.pdf\")",
      "metadata": {
        "source_hash": null,
        "execution_start": 1700714464940,
        "execution_millis": 1838,
        "deepnote_to_be_reexecuted": false,
        "cell_id": "d58ea7f76f504cf8bb28b8e0dbb676ac",
        "deepnote_cell_type": "code"
      },
      "outputs": [],
      "execution_count": null,
      "block_group": "8ff1510158b24749b493e3d0abad6688"
    },
    {
      "cell_type": "code",
      "source": "jdbc_headerless = remove_header(file=jdbc)\njdbc_stopless = remove_stopwords(jdbc_headerless)",
      "metadata": {
        "collapsed": false,
        "ExecuteTime": {
          "end_time": "2023-09-16T01:38:43.197709500Z",
          "start_time": "2023-09-16T01:38:43.182710700Z"
        },
        "source_hash": null,
        "execution_start": 1700713482306,
        "execution_millis": 31,
        "deepnote_to_be_reexecuted": false,
        "cell_id": "44c7b4f713d642ad92567ec8852246d8",
        "deepnote_cell_type": "code"
      },
      "outputs": [],
      "execution_count": null,
      "block_group": "e157137be87a4641ad4d5c05ae64f0a6"
    },
    {
      "cell_type": "code",
      "source": "jdbc_doc = create_doc(jdbc_stopless)",
      "metadata": {
        "source_hash": null,
        "execution_start": 1700714037848,
        "execution_millis": 5,
        "deepnote_to_be_reexecuted": false,
        "cell_id": "f6d986a2b21c4a6796a8067767653950",
        "deepnote_cell_type": "code"
      },
      "outputs": [],
      "execution_count": null,
      "block_group": "f4b342b6b9264a5ca84c362170daffc9"
    },
    {
      "cell_type": "markdown",
      "source": "# Transformer implementation",
      "metadata": {
        "formattedRanges": [],
        "cell_id": "d83beb2e0cfd4bc3a1ef2a1e3b64cb26",
        "deepnote_cell_type": "text-cell-h1"
      },
      "block_group": "0d17e1381cd4491b967eab2214396fae"
    },
    {
      "cell_type": "markdown",
      "source": "For this, I'm using HuggingFace transformers models that are an OpenSource ML model solution for NLP implementations.",
      "metadata": {
        "formattedRanges": [
          {
            "url": "https://huggingface.co/docs/transformers/tasks/summarization",
            "type": "link",
            "ranges": [],
            "toCodePoint": 52,
            "fromCodePoint": 20
          }
        ],
        "cell_id": "b16a248278ba40b6ae51f0e87443099e",
        "deepnote_cell_type": "text-cell-p"
      },
      "block_group": "e7fae387e3484c17a97fbe3ec788423d"
    },
    {
      "cell_type": "markdown",
      "source": "<a style='text-decoration:none;line-height:16px;display:flex;color:#5B5B62;padding:10px;justify-content:end;' href='https://deepnote.com?utm_source=created-in-deepnote-cell&projectId=49d23fa9-fdef-4e8b-9258-5e3409875cb0' target=\"_blank\">\n<img alt='Created in deepnote.com' style='display:inline;max-height:16px;margin:0px;margin-right:7.5px;' src='data:image/svg+xml;base64,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' > </img>\nCreated in <span style='font-weight:600;margin-left:4px;'>Deepnote</span></a>",
      "metadata": {
        "created_in_deepnote_cell": true,
        "deepnote_cell_type": "markdown"
      }
    }
  ],
  "nbformat": 4,
  "nbformat_minor": 0,
  "metadata": {
    "deepnote": {},
    "kernelspec": {
      "name": "python3",
      "language": "python",
      "display_name": "Python 3"
    },
    "language_info": {
      "name": "python",
      "version": "2.7.6",
      "mimetype": "text/x-python",
      "file_extension": ".py",
      "pygments_lexer": "ipython2",
      "codemirror_mode": {
        "name": "ipython",
        "version": 2
      },
      "nbconvert_exporter": "python"
    },
    "deepnote_notebook_id": "a1b5d2837acb4b81b29a5c6f93b4554b",
    "deepnote_persisted_session": {
      "createdAt": "2023-11-23T04:44:01.062Z"
    },
    "deepnote_execution_queue": []
  }
}